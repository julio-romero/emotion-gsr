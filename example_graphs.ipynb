{
 "cells": [
  {
   "cell_type": "code",
   "execution_count": null,
   "metadata": {},
   "outputs": [],
   "source": [
    "from emotiongsr import DataProcessor\n",
    "import cv2\n",
    "import numpy as np\n"
   ]
  },
  {
   "cell_type": "code",
   "execution_count": null,
   "metadata": {},
   "outputs": [],
   "source": [
    "IMOTIONS_PATH = 'Data'\n",
    "IMAGES_PATH = 'Images'\n",
    "OUTPUT_PATH = 'CleanedData'"
   ]
  },
  {
   "cell_type": "code",
   "execution_count": null,
   "metadata": {},
   "outputs": [],
   "source": [
    "IMAGE_PATH = 'Images/neutral/2002_4.95.jpg'\n",
    "IMAGE_NAME = '2002_4.95'"
   ]
  },
  {
   "cell_type": "code",
   "execution_count": null,
   "metadata": {},
   "outputs": [],
   "source": [
    "processor = DataProcessor(IMOTIONS_PATH,IMAGES_PATH,OUTPUT_PATH)"
   ]
  },
  {
   "cell_type": "code",
   "execution_count": null,
   "metadata": {},
   "outputs": [],
   "source": [
    "processor.clean_files()"
   ]
  },
  {
   "cell_type": "code",
   "execution_count": null,
   "metadata": {},
   "outputs": [],
   "source": [
    "data = processor.get_clean_data()\n",
    "data"
   ]
  },
  {
   "cell_type": "code",
   "execution_count": null,
   "metadata": {},
   "outputs": [],
   "source": [
    "import numpy as np"
   ]
  },
  {
   "cell_type": "code",
   "execution_count": null,
   "metadata": {},
   "outputs": [],
   "source": [
    "df = data.copy()"
   ]
  },
  {
   "cell_type": "code",
   "execution_count": null,
   "metadata": {},
   "outputs": [],
   "source": [
    "\n",
    "\n",
    "df['norm_x'] = np.random.normal(0.5, 0.1, len(df))\n",
    "df['norm_y'] = np.random.normal(0.5, 0.1, len(df))\n",
    "\n"
   ]
  },
  {
   "cell_type": "code",
   "execution_count": null,
   "metadata": {},
   "outputs": [],
   "source": [
    "def dataframe_for_image(df, image):\n",
    "    return df[df['SourceStimuliName']==image]"
   ]
  },
  {
   "cell_type": "code",
   "execution_count": null,
   "metadata": {},
   "outputs": [],
   "source": [
    "new_data = dataframe_for_image(df, IMAGE_NAME)"
   ]
  },
  {
   "cell_type": "code",
   "execution_count": null,
   "metadata": {},
   "outputs": [],
   "source": [
    "new_data"
   ]
  },
  {
   "cell_type": "code",
   "execution_count": null,
   "metadata": {},
   "outputs": [],
   "source": [
    "\n",
    "# Load an image\n",
    "img = cv2.imread(IMAGE_PATH) \n",
    "# Create a mask image to draw the emotions on\n",
    "emotion_mask = np.zeros_like(img)\n",
    "\n",
    "for index, row in df.iterrows():\n",
    "    # Normalize coordinates to match the image dimensions\n",
    "    x = int(row['norm_x'] * img.shape[1])\n",
    "    y = int(row['norm_y'] * img.shape[0])\n",
    "\n",
    "    # Plot each emotion on the mask image\n",
    "    emotion_intensity = row['GSR RAW']\n",
    "    if emotion_intensity is not None:\n",
    "        emotion_intensity = np.nan_to_num(emotion_intensity)\n",
    "            # Use the intensity to set the color (or you can use it to set the size of the circle)\n",
    "        intensity = int(emotion_intensity * 255)  # Assuming the intensity is normalized between 0 and 1\n",
    "        color = (intensity, intensity, intensity)  # Grayscale intensity\n",
    "\n",
    "            # Draw a circle on the mask image\n",
    "        cv2.circle(emotion_mask, (x, y), 10, color, -1)\n",
    "\n",
    "# Apply Gaussian blur to the emotion mask\n",
    "blurred_emotion_mask = cv2.GaussianBlur(emotion_mask, (13, 13), 11)\n",
    "\n",
    "heatmap_img = cv2.applyColorMap(blurred_emotion_mask, cv2.COLORMAP_JET)\n",
    "\n",
    "# Combine the original image with the blurred emotion mask\n",
    "result_img = cv2.addWeighted(heatmap_img, 0.5, img, 0.5, 0)\n",
    "\n",
    "# Display the image\n",
    "cv2.imshow('Emotion Plots with Gaussian Blur', result_img)\n",
    "cv2.waitKey(0)\n",
    "cv2.destroyAllWindows()"
   ]
  }
 ],
 "metadata": {
  "kernelspec": {
   "display_name": "Python 3",
   "language": "python",
   "name": "python3"
  },
  "language_info": {
   "codemirror_mode": {
    "name": "ipython",
    "version": 3
   },
   "file_extension": ".py",
   "mimetype": "text/x-python",
   "name": "python",
   "nbconvert_exporter": "python",
   "pygments_lexer": "ipython3",
   "version": "3.10.12"
  }
 },
 "nbformat": 4,
 "nbformat_minor": 2
}
